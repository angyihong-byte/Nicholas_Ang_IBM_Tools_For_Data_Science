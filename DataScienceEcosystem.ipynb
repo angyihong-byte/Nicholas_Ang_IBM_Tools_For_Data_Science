{
 "cells": [
  {
   "cell_type": "markdown",
   "id": "6a8d3b88-ac19-4d7d-8235-035f606c23a0",
   "metadata": {},
   "source": [
    "# Data Science Tools and Ecosystem"
   ]
  },
  {
   "cell_type": "markdown",
   "id": "ff941e56-380f-4330-9c5f-a05b93be17ad",
   "metadata": {},
   "source": [
    "In this notebook, Data Science Tools and Ecosystem are summarized."
   ]
  },
  {
   "cell_type": "markdown",
   "id": "be4ac575-9997-4911-99b2-c2b77d7e79ed",
   "metadata": {},
   "source": [
    "**Objectives:**\n",
    "- List popular languages for Data Science\n",
    "- Markdown cell introducing arithmetic expression examples\n",
    "- Code cell to convert minutes to hours"
   ]
  },
  {
   "cell_type": "markdown",
   "id": "42e09a7f-af2d-4f9c-b8c1-45b36ac5d38f",
   "metadata": {},
   "source": [
    "Some of the popular languages that Data Scientists use are:\n",
    "1. Python\n",
    "2. R\n",
    "3. SQL\n",
    "4. Julia"
   ]
  },
  {
   "cell_type": "markdown",
   "id": "1c125c4e-1e66-40d0-9865-c7f324dd4487",
   "metadata": {},
   "source": [
    "Some of the commonly used libraries used by Data Scientists include:\n",
    "1. Pandas\n",
    "2. NumPy\n",
    "3. TensorFlow"
   ]
  },
  {
   "cell_type": "markdown",
   "id": "6aea690f-c1b6-43a3-9bd5-3235be85246f",
   "metadata": {},
   "source": [
    "| Data Science Tools |\n",
    "| -------------|\n",
    "| RStudio |\n",
    "| Jupyter Notebook |\n",
    "| Visual Studio Code |\n"
   ]
  },
  {
   "cell_type": "markdown",
   "id": "5c576293-47fc-4e62-97e3-887075b6905c",
   "metadata": {},
   "source": [
    "### Below are a few examples of evaluating arithmetic expressions in Python"
   ]
  },
  {
   "cell_type": "code",
   "execution_count": 6,
   "id": "71c450c0-0bf6-4866-bb65-fa6801195561",
   "metadata": {},
   "outputs": [
    {
     "data": {
      "text/plain": [
       "17"
      ]
     },
     "execution_count": 6,
     "metadata": {},
     "output_type": "execute_result"
    }
   ],
   "source": [
    "# \"This is a simple arithmetic expression to multiply then add integers\"\n",
    "(3*4)+5"
   ]
  },
  {
   "cell_type": "code",
   "execution_count": 7,
   "id": "251aafbf-d6b3-4331-a27c-afda510593e2",
   "metadata": {},
   "outputs": [
    {
     "data": {
      "text/plain": [
       "3.3333333333333335"
      ]
     },
     "execution_count": 7,
     "metadata": {},
     "output_type": "execute_result"
    }
   ],
   "source": [
    "# This will convert 200 minutes to hours by dividing by 60\n",
    "200 / 60"
   ]
  },
  {
   "cell_type": "markdown",
   "id": "35cf8589-3ad2-4a4b-b61e-a2c14543659c",
   "metadata": {},
   "source": [
    "## Author\n",
    "Nicholas Ang"
   ]
  },
  {
   "cell_type": "code",
   "execution_count": null,
   "id": "538e7990-3595-4d4d-8b57-e972b6eac594",
   "metadata": {},
   "outputs": [],
   "source": []
  }
 ],
 "metadata": {
  "kernelspec": {
   "display_name": "Python 3 (ipykernel)",
   "language": "python",
   "name": "python3"
  },
  "language_info": {
   "codemirror_mode": {
    "name": "ipython",
    "version": 3
   },
   "file_extension": ".py",
   "mimetype": "text/x-python",
   "name": "python",
   "nbconvert_exporter": "python",
   "pygments_lexer": "ipython3",
   "version": "3.11.9"
  }
 },
 "nbformat": 4,
 "nbformat_minor": 5
}
